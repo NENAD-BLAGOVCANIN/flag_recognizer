{
 "cells": [
  {
   "cell_type": "code",
   "execution_count": null,
   "metadata": {},
   "outputs": [],
   "source": [
    "import os\n",
    "import torch\n",
    "from torch import nn, save, load\n",
    "from PIL import Image\n",
    "from torch.utils.data import Dataset, DataLoader\n",
    "from torchvision import transforms\n",
    "from torch.optim import Adam\n",
    "from model import ImageClassifier"
   ]
  },
  {
   "cell_type": "code",
   "execution_count": null,
   "metadata": {},
   "outputs": [],
   "source": [
    "EPOCHS = 10"
   ]
  },
  {
   "cell_type": "code",
   "execution_count": null,
   "metadata": {},
   "outputs": [],
   "source": [
    "class FlagDataset(Dataset):\n",
    "  def __init__(self, root_dir, transform=None):\n",
    "    self.root_dir = root_dir\n",
    "    self.image_paths = []\n",
    "    self.labels = []  # Assuming each folder name represents the label\n",
    "\n",
    "    for country_dir in os.listdir(root_dir):\n",
    "      label = country_dir  # Assuming folder name is the label\n",
    "      country_path = os.path.join(root_dir, country_dir)\n",
    "      for image_file in os.listdir(country_path):\n",
    "        image_path = os.path.join(country_path, image_file)\n",
    "        self.image_paths.append(image_path)\n",
    "        self.labels.append(label)\n",
    "    \n",
    "    self.transform = transform\n",
    "\n",
    "  def __len__(self):\n",
    "    return len(self.image_paths)\n",
    "\n",
    "  def __getitem__(self, idx):\n",
    "    image_path = self.image_paths[idx]\n",
    "    label = self.labels[idx]\n",
    "    image = Image.open(image_path).convert('RGB')  # Assuming RGB format\n",
    "    if self.transform:\n",
    "      image = self.transform(image)\n",
    "    return image, label"
   ]
  },
  {
   "cell_type": "code",
   "execution_count": null,
   "metadata": {},
   "outputs": [],
   "source": [
    "data_dir = 'data'\n",
    "\n",
    "transform = transforms.Compose([\n",
    "    transforms.Resize((20, 30)),\n",
    "    transforms.ToTensor(),\n",
    "    transforms.Normalize((0.5, 0.5, 0.5), (0.5, 0.5, 0.5))\n",
    "])\n",
    "\n",
    "dataset = FlagDataset(data_dir, transform=transform)\n",
    "train_data = DataLoader(dataset, batch_size=32, shuffle=True)\n",
    "\n",
    "clf = ImageClassifier().to('cuda')\n",
    "opt = Adam(clf.parameters(), lr=1e-3)\n",
    "loss_fn = nn.CrossEntropyLoss() "
   ]
  },
  {
   "cell_type": "code",
   "execution_count": null,
   "metadata": {},
   "outputs": [],
   "source": [
    "\n",
    "# Training flow \n",
    "if __name__ == \"__main__\": \n",
    "    for epoch in range(EPOCHS):\n",
    "        total_batches = len(train_data)  # Get total number of batches\n",
    "\n",
    "        for batch_idx, batch in enumerate(train_data):\n",
    "            X, y = batch\n",
    "            X, y = X.to('cuda'), y.to('cuda')\n",
    "            yhat = clf(X)\n",
    "            loss = loss_fn(yhat, y)\n",
    "\n",
    "            print(f\"Epoch: {epoch} | Batch: {batch_idx+1}/{total_batches} | Loss: {loss.item():.4f}\")\n",
    "\n",
    "            # Apply backprop\n",
    "            opt.zero_grad()\n",
    "            loss.backward()\n",
    "            opt.step()\n",
    "\n",
    "        print(f\"Epoch:{epoch} loss is {loss.item()}\")\n",
    "    \n",
    "    with open('model_state.pt', 'wb') as f: \n",
    "        save(clf.state_dict(), f) \n",
    "\n",
    "    with open('model_state.pt', 'rb') as f: \n",
    "        clf.load_state_dict(load(f))  \n",
    "\n",
    "    img = Image.open('img_3.jpg') \n",
    "    img_tensor = ToTensor()(img).unsqueeze(0).to('cuda')\n",
    "\n",
    "    print(torch.argmax(clf(img_tensor)))"
   ]
  }
 ],
 "metadata": {
  "kernelspec": {
   "display_name": "venv",
   "language": "python",
   "name": "python3"
  },
  "language_info": {
   "name": "python",
   "version": "3.12.7"
  }
 },
 "nbformat": 4,
 "nbformat_minor": 2
}
