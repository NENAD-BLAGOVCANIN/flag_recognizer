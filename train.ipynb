{
 "cells": [
  {
   "cell_type": "code",
   "execution_count": 1,
   "metadata": {},
   "outputs": [
    {
     "name": "stdout",
     "output_type": "stream",
     "text": [
      "Requirement already satisfied: torch in c:\\users\\nenad\\appdata\\local\\programs\\python\\python312\\lib\\site-packages (2.5.1)\n",
      "Requirement already satisfied: filelock in c:\\users\\nenad\\appdata\\local\\programs\\python\\python312\\lib\\site-packages (from torch) (3.16.1)\n",
      "Requirement already satisfied: typing-extensions>=4.8.0 in c:\\users\\nenad\\appdata\\local\\programs\\python\\python312\\lib\\site-packages (from torch) (4.12.2)\n",
      "Requirement already satisfied: networkx in c:\\users\\nenad\\appdata\\local\\programs\\python\\python312\\lib\\site-packages (from torch) (3.4.2)\n",
      "Requirement already satisfied: jinja2 in c:\\users\\nenad\\appdata\\local\\programs\\python\\python312\\lib\\site-packages (from torch) (3.1.4)\n",
      "Requirement already satisfied: fsspec in c:\\users\\nenad\\appdata\\local\\programs\\python\\python312\\lib\\site-packages (from torch) (2024.10.0)\n",
      "Requirement already satisfied: setuptools in c:\\users\\nenad\\appdata\\local\\programs\\python\\python312\\lib\\site-packages (from torch) (75.3.0)\n",
      "Requirement already satisfied: sympy==1.13.1 in c:\\users\\nenad\\appdata\\local\\programs\\python\\python312\\lib\\site-packages (from torch) (1.13.1)\n",
      "Requirement already satisfied: mpmath<1.4,>=1.1.0 in c:\\users\\nenad\\appdata\\local\\programs\\python\\python312\\lib\\site-packages (from sympy==1.13.1->torch) (1.3.0)\n",
      "Requirement already satisfied: MarkupSafe>=2.0 in c:\\users\\nenad\\appdata\\local\\programs\\python\\python312\\lib\\site-packages (from jinja2->torch) (3.0.2)\n",
      "Note: you may need to restart the kernel to use updated packages.\n"
     ]
    },
    {
     "name": "stderr",
     "output_type": "stream",
     "text": [
      "\n",
      "[notice] A new release of pip is available: 24.2 -> 24.3.1\n",
      "[notice] To update, run: python.exe -m pip install --upgrade pip\n"
     ]
    },
    {
     "name": "stdout",
     "output_type": "stream",
     "text": [
      "Requirement already satisfied: kagglehub in c:\\users\\nenad\\appdata\\local\\programs\\python\\python312\\lib\\site-packages (0.3.4)Note: you may need to restart the kernel to use updated packages.\n"
     ]
    },
    {
     "name": "stderr",
     "output_type": "stream",
     "text": [
      "\n",
      "[notice] A new release of pip is available: 24.2 -> 24.3.1\n",
      "[notice] To update, run: python.exe -m pip install --upgrade pip\n"
     ]
    },
    {
     "name": "stdout",
     "output_type": "stream",
     "text": [
      "\n",
      "Requirement already satisfied: packaging in c:\\users\\nenad\\appdata\\local\\programs\\python\\python312\\lib\\site-packages (from kagglehub) (24.1)\n",
      "Requirement already satisfied: requests in c:\\users\\nenad\\appdata\\local\\programs\\python\\python312\\lib\\site-packages (from kagglehub) (2.32.3)\n",
      "Requirement already satisfied: tqdm in c:\\users\\nenad\\appdata\\local\\programs\\python\\python312\\lib\\site-packages (from kagglehub) (4.67.0)\n",
      "Requirement already satisfied: charset-normalizer<4,>=2 in c:\\users\\nenad\\appdata\\local\\programs\\python\\python312\\lib\\site-packages (from requests->kagglehub) (3.4.0)\n",
      "Requirement already satisfied: idna<4,>=2.5 in c:\\users\\nenad\\appdata\\local\\programs\\python\\python312\\lib\\site-packages (from requests->kagglehub) (3.10)\n",
      "Requirement already satisfied: urllib3<3,>=1.21.1 in c:\\users\\nenad\\appdata\\local\\programs\\python\\python312\\lib\\site-packages (from requests->kagglehub) (2.2.3)\n",
      "Requirement already satisfied: certifi>=2017.4.17 in c:\\users\\nenad\\appdata\\local\\programs\\python\\python312\\lib\\site-packages (from requests->kagglehub) (2024.8.30)\n",
      "Requirement already satisfied: colorama in c:\\users\\nenad\\appdata\\local\\programs\\python\\python312\\lib\\site-packages (from tqdm->kagglehub) (0.4.6)\n",
      "Requirement already satisfied: torchvision in c:\\users\\nenad\\appdata\\local\\programs\\python\\python312\\lib\\site-packages (0.20.1)\n",
      "Requirement already satisfied: numpy in c:\\users\\nenad\\appdata\\local\\programs\\python\\python312\\lib\\site-packages (from torchvision) (2.0.2)\n",
      "Requirement already satisfied: torch==2.5.1 in c:\\users\\nenad\\appdata\\local\\programs\\python\\python312\\lib\\site-packages (from torchvision) (2.5.1)\n",
      "Requirement already satisfied: pillow!=8.3.*,>=5.3.0 in c:\\users\\nenad\\appdata\\local\\programs\\python\\python312\\lib\\site-packages (from torchvision) (9.5.0)\n",
      "Requirement already satisfied: filelock in c:\\users\\nenad\\appdata\\local\\programs\\python\\python312\\lib\\site-packages (from torch==2.5.1->torchvision) (3.16.1)\n",
      "Requirement already satisfied: typing-extensions>=4.8.0 in c:\\users\\nenad\\appdata\\local\\programs\\python\\python312\\lib\\site-packages (from torch==2.5.1->torchvision) (4.12.2)\n",
      "Requirement already satisfied: networkx in c:\\users\\nenad\\appdata\\local\\programs\\python\\python312\\lib\\site-packages (from torch==2.5.1->torchvision) (3.4.2)\n",
      "Requirement already satisfied: jinja2 in c:\\users\\nenad\\appdata\\local\\programs\\python\\python312\\lib\\site-packages (from torch==2.5.1->torchvision) (3.1.4)\n",
      "Requirement already satisfied: fsspec in c:\\users\\nenad\\appdata\\local\\programs\\python\\python312\\lib\\site-packages (from torch==2.5.1->torchvision) (2024.10.0)\n",
      "Requirement already satisfied: setuptools in c:\\users\\nenad\\appdata\\local\\programs\\python\\python312\\lib\\site-packages (from torch==2.5.1->torchvision) (75.3.0)\n",
      "Requirement already satisfied: sympy==1.13.1 in c:\\users\\nenad\\appdata\\local\\programs\\python\\python312\\lib\\site-packages (from torch==2.5.1->torchvision) (1.13.1)\n",
      "Requirement already satisfied: mpmath<1.4,>=1.1.0 in c:\\users\\nenad\\appdata\\local\\programs\\python\\python312\\lib\\site-packages (from sympy==1.13.1->torch==2.5.1->torchvision) (1.3.0)\n",
      "Requirement already satisfied: MarkupSafe>=2.0 in c:\\users\\nenad\\appdata\\local\\programs\\python\\python312\\lib\\site-packages (from jinja2->torch==2.5.1->torchvision) (3.0.2)\n",
      "Note: you may need to restart the kernel to use updated packages.\n"
     ]
    },
    {
     "name": "stderr",
     "output_type": "stream",
     "text": [
      "\n",
      "[notice] A new release of pip is available: 24.2 -> 24.3.1\n",
      "[notice] To update, run: python.exe -m pip install --upgrade pip\n"
     ]
    }
   ],
   "source": [
    "%pip install torch\n",
    "%pip install kagglehub\n",
    "%pip install torchvision"
   ]
  },
  {
   "cell_type": "code",
   "execution_count": 2,
   "metadata": {},
   "outputs": [
    {
     "name": "stderr",
     "output_type": "stream",
     "text": [
      "c:\\Users\\nenad\\AppData\\Local\\Programs\\Python\\Python312\\Lib\\site-packages\\tqdm\\auto.py:21: TqdmWarning: IProgress not found. Please update jupyter and ipywidgets. See https://ipywidgets.readthedocs.io/en/stable/user_install.html\n",
      "  from .autonotebook import tqdm as notebook_tqdm\n"
     ]
    }
   ],
   "source": [
    "import torch\n",
    "from torch import nn, save, load\n",
    "from PIL import Image\n",
    "from torch.utils.data import Dataset, DataLoader\n",
    "from torchvision import transforms\n",
    "from torch.optim import Adam\n",
    "from model import ImageClassifier\n",
    "import kagglehub\n",
    "from dataset import FlagDataset"
   ]
  },
  {
   "cell_type": "code",
   "execution_count": 3,
   "metadata": {},
   "outputs": [],
   "source": [
    "EPOCHS = 10\n",
    "LR = 1e-3\n",
    "device = torch.device(\"cuda\" if torch.cuda.is_available() else \"cpu\")"
   ]
  },
  {
   "cell_type": "code",
   "execution_count": 4,
   "metadata": {},
   "outputs": [
    {
     "name": "stdout",
     "output_type": "stream",
     "text": [
      "Batch images shape: torch.Size([32, 3, 20, 30]), Batch labels: tensor([0, 2, 1, 4, 4, 3, 3, 4, 0, 1, 3, 1, 0, 2, 2, 3, 4, 1, 0, 0, 2, 4, 0, 0,\n",
      "        4, 0, 0, 1, 2, 4, 2, 2])\n"
     ]
    }
   ],
   "source": [
    "# Download and load data and apply transformations\n",
    "\n",
    "kagglehub.dataset_download(\"nenadblagovcanin/country-flags\")\n",
    "dataset_path = 'training_data/'\n",
    "\n",
    "transform = transforms.Compose([\n",
    "    transforms.Resize((20, 30)),\n",
    "    transforms.ToTensor(),\n",
    "    transforms.Normalize((0.5, 0.5, 0.5), (0.5, 0.5, 0.5))\n",
    "])\n",
    "\n",
    "dataset = FlagDataset(dataset_path, transform=transform)\n",
    "train_data = DataLoader(dataset, batch_size=32, shuffle=True)\n",
    "\n",
    "for images, labels in train_data:\n",
    "    print(f\"Batch images shape: {images.shape}, Batch labels: {labels}\")\n",
    "    break\n",
    "\n",
    "clf = ImageClassifier().to(device)\n",
    "opt = Adam(clf.parameters(), lr=LR)\n",
    "loss_fn = nn.CrossEntropyLoss() "
   ]
  },
  {
   "cell_type": "code",
   "execution_count": 5,
   "metadata": {},
   "outputs": [
    {
     "name": "stdout",
     "output_type": "stream",
     "text": [
      "Batch 0: <class 'list'>\n",
      "Epoch: 0 | Batch: 1/2 | Loss: 1.7833\n",
      "Batch 1: <class 'list'>\n",
      "Epoch: 0 | Batch: 2/2 | Loss: 1.5481\n",
      "Epoch:0 loss is 1.5480830669403076\n",
      "Batch 0: <class 'list'>\n",
      "Epoch: 1 | Batch: 1/2 | Loss: 1.0525\n",
      "Batch 1: <class 'list'>\n",
      "Epoch: 1 | Batch: 2/2 | Loss: 0.7940\n",
      "Epoch:1 loss is 0.7939924001693726\n",
      "Batch 0: <class 'list'>\n",
      "Epoch: 2 | Batch: 1/2 | Loss: 0.3693\n",
      "Batch 1: <class 'list'>\n",
      "Epoch: 2 | Batch: 2/2 | Loss: 0.5467\n",
      "Epoch:2 loss is 0.5466637015342712\n",
      "Batch 0: <class 'list'>\n",
      "Epoch: 3 | Batch: 1/2 | Loss: 0.2650\n",
      "Batch 1: <class 'list'>\n",
      "Epoch: 3 | Batch: 2/2 | Loss: 0.3032\n",
      "Epoch:3 loss is 0.303218811750412\n",
      "Batch 0: <class 'list'>\n",
      "Epoch: 4 | Batch: 1/2 | Loss: 0.1421\n",
      "Batch 1: <class 'list'>\n",
      "Epoch: 4 | Batch: 2/2 | Loss: 0.1479\n",
      "Epoch:4 loss is 0.14792153239250183\n",
      "Batch 0: <class 'list'>\n",
      "Epoch: 5 | Batch: 1/2 | Loss: 0.0948\n",
      "Batch 1: <class 'list'>\n",
      "Epoch: 5 | Batch: 2/2 | Loss: 0.0541\n",
      "Epoch:5 loss is 0.05405595898628235\n",
      "Batch 0: <class 'list'>\n",
      "Epoch: 6 | Batch: 1/2 | Loss: 0.0219\n",
      "Batch 1: <class 'list'>\n",
      "Epoch: 6 | Batch: 2/2 | Loss: 0.0106\n",
      "Epoch:6 loss is 0.010578183457255363\n",
      "Batch 0: <class 'list'>\n",
      "Epoch: 7 | Batch: 1/2 | Loss: 0.0079\n",
      "Batch 1: <class 'list'>\n",
      "Epoch: 7 | Batch: 2/2 | Loss: 0.0222\n",
      "Epoch:7 loss is 0.022232774645090103\n",
      "Batch 0: <class 'list'>\n",
      "Epoch: 8 | Batch: 1/2 | Loss: 0.0154\n",
      "Batch 1: <class 'list'>\n",
      "Epoch: 8 | Batch: 2/2 | Loss: 0.0035\n",
      "Epoch:8 loss is 0.003470366122201085\n",
      "Batch 0: <class 'list'>\n",
      "Epoch: 9 | Batch: 1/2 | Loss: 0.0029\n",
      "Batch 1: <class 'list'>\n",
      "Epoch: 9 | Batch: 2/2 | Loss: 0.0009\n",
      "Epoch:9 loss is 0.0008735411101952195\n"
     ]
    }
   ],
   "source": [
    "\n",
    "# Training flow \n",
    "if __name__ == \"__main__\": \n",
    "    for epoch in range(EPOCHS):\n",
    "        total_batches = len(train_data)  # Get total number of batches\n",
    "\n",
    "        for batch_idx, batch in enumerate(train_data):\n",
    "            print(f\"Batch {batch_idx}: {type(batch)}\")\n",
    "            X, y = batch\n",
    "            X, y = X.to(device), y.to(device)\n",
    "            yhat = clf(X)\n",
    "            loss = loss_fn(yhat, y)\n",
    "\n",
    "            print(f\"Epoch: {epoch} | Batch: {batch_idx+1}/{total_batches} | Loss: {loss.item():.4f}\")\n",
    "\n",
    "            # Apply backprop\n",
    "            opt.zero_grad()\n",
    "            loss.backward()\n",
    "            opt.step()\n",
    "\n",
    "        print(f\"Epoch:{epoch} loss is {loss.item()}\")\n",
    "    \n",
    "    with open('model_state.pt', 'wb') as f: \n",
    "        save(clf.state_dict(), f) "
   ]
  }
 ],
 "metadata": {
  "kernelspec": {
   "display_name": "Python 3",
   "language": "python",
   "name": "python3"
  },
  "language_info": {
   "codemirror_mode": {
    "name": "ipython",
    "version": 3
   },
   "file_extension": ".py",
   "mimetype": "text/x-python",
   "name": "python",
   "nbconvert_exporter": "python",
   "pygments_lexer": "ipython3",
   "version": "3.12.7"
  }
 },
 "nbformat": 4,
 "nbformat_minor": 2
}
